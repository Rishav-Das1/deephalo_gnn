{
 "cells": [
  {
   "cell_type": "code",
   "execution_count": 1,
   "metadata": {},
   "outputs": [],
   "source": [
    "import h5py\n",
    "import numpy as np\n",
    "import matplotlib.pyplot as plt"
   ]
  },
  {
   "cell_type": "code",
   "execution_count": 2,
   "metadata": {},
   "outputs": [
    {
     "name": "stdout",
     "output_type": "stream",
     "text": [
      "list of datasets in this file: \n",
      " <KeysViewHDF5 ['Config', 'Groups', 'Header', 'Offsets', 'Parameters', 'Snapshots', 'Trees']>\n",
      "shape of dataset1: \n",
      " (100,)\n"
     ]
    }
   ],
   "source": [
    "with h5py.File('simulation.hdf5','r') as hdf:\n",
    "    ls = hdf.keys()\n",
    "    print(\"list of datasets in this file: \\n\", ls)\n",
    "    data = hdf.get('Snapshots')\n",
    "    dataset1 = np.array(data)\n",
    "    print(\"shape of dataset1: \\n\", dataset1.shape)"
   ]
  },
  {
   "cell_type": "code",
   "execution_count": 4,
   "metadata": {},
   "outputs": [
    {
     "data": {
      "text/plain": [
       "array(['0', '1', '10', '11', '12', '13', '14', '15', '16', '17', '18',\n",
       "       '19', '2', '20', '21', '22', '23', '24', '25', '26', '27', '28',\n",
       "       '29', '3', '30', '31', '32', '33', '34', '35', '36', '37', '38',\n",
       "       '39', '4', '40', '41', '42', '43', '44', '45', '46', '47', '48',\n",
       "       '49', '5', '50', '51', '52', '53', '54', '55', '56', '57', '58',\n",
       "       '59', '6', '60', '61', '62', '63', '64', '65', '66', '67', '68',\n",
       "       '69', '7', '70', '71', '72', '73', '74', '75', '76', '77', '78',\n",
       "       '79', '8', '80', '81', '82', '83', '84', '85', '86', '87', '88',\n",
       "       '89', '9', '90', '91', '92', '93', '94', '95', '96', '97', '98',\n",
       "       '99'], dtype='<U2')"
      ]
     },
     "execution_count": 4,
     "metadata": {},
     "output_type": "execute_result"
    }
   ],
   "source": [
    "dataset1"
   ]
  },
  {
   "cell_type": "code",
   "execution_count": 5,
   "metadata": {},
   "outputs": [
    {
     "name": "stdout",
     "output_type": "stream",
     "text": [
      "items in the base directory [('Config', <HDF5 group \"/Config\" (0 members)>), ('Groups', <HDF5 group \"/Groups\" (100 members)>), ('Header', <HDF5 group \"/Header\" (0 members)>), ('Offsets', <HDF5 group \"/Offsets\" (98 members)>), ('Parameters', <HDF5 group \"/Parameters\" (0 members)>), ('Snapshots', <HDF5 group \"/Snapshots\" (100 members)>), ('Trees', <HDF5 group \"/Trees\" (1 members)>)]\n",
      "items in group [('0', <HDF5 group \"/Snapshots/0\" (2 members)>), ('1', <HDF5 group \"/Snapshots/1\" (2 members)>), ('10', <HDF5 group \"/Snapshots/10\" (2 members)>), ('11', <HDF5 group \"/Snapshots/11\" (2 members)>), ('12', <HDF5 group \"/Snapshots/12\" (2 members)>), ('13', <HDF5 group \"/Snapshots/13\" (2 members)>), ('14', <HDF5 group \"/Snapshots/14\" (2 members)>), ('15', <HDF5 group \"/Snapshots/15\" (2 members)>), ('16', <HDF5 group \"/Snapshots/16\" (2 members)>), ('17', <HDF5 group \"/Snapshots/17\" (2 members)>), ('18', <HDF5 group \"/Snapshots/18\" (2 members)>), ('19', <HDF5 group \"/Snapshots/19\" (2 members)>), ('2', <HDF5 group \"/Snapshots/2\" (2 members)>), ('20', <HDF5 group \"/Snapshots/20\" (2 members)>), ('21', <HDF5 group \"/Snapshots/21\" (2 members)>), ('22', <HDF5 group \"/Snapshots/22\" (2 members)>), ('23', <HDF5 group \"/Snapshots/23\" (2 members)>), ('24', <HDF5 group \"/Snapshots/24\" (2 members)>), ('25', <HDF5 group \"/Snapshots/25\" (2 members)>), ('26', <HDF5 group \"/Snapshots/26\" (2 members)>), ('27', <HDF5 group \"/Snapshots/27\" (2 members)>), ('28', <HDF5 group \"/Snapshots/28\" (2 members)>), ('29', <HDF5 group \"/Snapshots/29\" (2 members)>), ('3', <HDF5 group \"/Snapshots/3\" (2 members)>), ('30', <HDF5 group \"/Snapshots/30\" (2 members)>), ('31', <HDF5 group \"/Snapshots/31\" (2 members)>), ('32', <HDF5 group \"/Snapshots/32\" (2 members)>), ('33', <HDF5 group \"/Snapshots/33\" (2 members)>), ('34', <HDF5 group \"/Snapshots/34\" (2 members)>), ('35', <HDF5 group \"/Snapshots/35\" (2 members)>), ('36', <HDF5 group \"/Snapshots/36\" (2 members)>), ('37', <HDF5 group \"/Snapshots/37\" (2 members)>), ('38', <HDF5 group \"/Snapshots/38\" (2 members)>), ('39', <HDF5 group \"/Snapshots/39\" (2 members)>), ('4', <HDF5 group \"/Snapshots/4\" (2 members)>), ('40', <HDF5 group \"/Snapshots/40\" (2 members)>), ('41', <HDF5 group \"/Snapshots/41\" (2 members)>), ('42', <HDF5 group \"/Snapshots/42\" (2 members)>), ('43', <HDF5 group \"/Snapshots/43\" (2 members)>), ('44', <HDF5 group \"/Snapshots/44\" (2 members)>), ('45', <HDF5 group \"/Snapshots/45\" (2 members)>), ('46', <HDF5 group \"/Snapshots/46\" (2 members)>), ('47', <HDF5 group \"/Snapshots/47\" (2 members)>), ('48', <HDF5 group \"/Snapshots/48\" (2 members)>), ('49', <HDF5 group \"/Snapshots/49\" (2 members)>), ('5', <HDF5 group \"/Snapshots/5\" (2 members)>), ('50', <HDF5 group \"/Snapshots/50\" (2 members)>), ('51', <HDF5 group \"/Snapshots/51\" (2 members)>), ('52', <HDF5 group \"/Snapshots/52\" (2 members)>), ('53', <HDF5 group \"/Snapshots/53\" (2 members)>), ('54', <HDF5 group \"/Snapshots/54\" (2 members)>), ('55', <HDF5 group \"/Snapshots/55\" (2 members)>), ('56', <HDF5 group \"/Snapshots/56\" (2 members)>), ('57', <HDF5 group \"/Snapshots/57\" (2 members)>), ('58', <HDF5 group \"/Snapshots/58\" (2 members)>), ('59', <HDF5 group \"/Snapshots/59\" (2 members)>), ('6', <HDF5 group \"/Snapshots/6\" (2 members)>), ('60', <HDF5 group \"/Snapshots/60\" (2 members)>), ('61', <HDF5 group \"/Snapshots/61\" (2 members)>), ('62', <HDF5 group \"/Snapshots/62\" (2 members)>), ('63', <HDF5 group \"/Snapshots/63\" (2 members)>), ('64', <HDF5 group \"/Snapshots/64\" (2 members)>), ('65', <HDF5 group \"/Snapshots/65\" (2 members)>), ('66', <HDF5 group \"/Snapshots/66\" (2 members)>), ('67', <HDF5 group \"/Snapshots/67\" (2 members)>), ('68', <HDF5 group \"/Snapshots/68\" (2 members)>), ('69', <HDF5 group \"/Snapshots/69\" (2 members)>), ('7', <HDF5 group \"/Snapshots/7\" (2 members)>), ('70', <HDF5 group \"/Snapshots/70\" (2 members)>), ('71', <HDF5 group \"/Snapshots/71\" (2 members)>), ('72', <HDF5 group \"/Snapshots/72\" (2 members)>), ('73', <HDF5 group \"/Snapshots/73\" (2 members)>), ('74', <HDF5 group \"/Snapshots/74\" (2 members)>), ('75', <HDF5 group \"/Snapshots/75\" (2 members)>), ('76', <HDF5 group \"/Snapshots/76\" (2 members)>), ('77', <HDF5 group \"/Snapshots/77\" (2 members)>), ('78', <HDF5 group \"/Snapshots/78\" (2 members)>), ('79', <HDF5 group \"/Snapshots/79\" (2 members)>), ('8', <HDF5 group \"/Snapshots/8\" (2 members)>), ('80', <HDF5 group \"/Snapshots/80\" (2 members)>), ('81', <HDF5 group \"/Snapshots/81\" (2 members)>), ('82', <HDF5 group \"/Snapshots/82\" (2 members)>), ('83', <HDF5 group \"/Snapshots/83\" (2 members)>), ('84', <HDF5 group \"/Snapshots/84\" (2 members)>), ('85', <HDF5 group \"/Snapshots/85\" (2 members)>), ('86', <HDF5 group \"/Snapshots/86\" (2 members)>), ('87', <HDF5 group \"/Snapshots/87\" (2 members)>), ('88', <HDF5 group \"/Snapshots/88\" (2 members)>), ('89', <HDF5 group \"/Snapshots/89\" (2 members)>), ('9', <HDF5 group \"/Snapshots/9\" (2 members)>), ('90', <HDF5 group \"/Snapshots/90\" (2 members)>), ('91', <HDF5 group \"/Snapshots/91\" (2 members)>), ('92', <HDF5 group \"/Snapshots/92\" (2 members)>), ('93', <HDF5 group \"/Snapshots/93\" (2 members)>), ('94', <HDF5 group \"/Snapshots/94\" (2 members)>), ('95', <HDF5 group \"/Snapshots/95\" (2 members)>), ('96', <HDF5 group \"/Snapshots/96\" (2 members)>), ('97', <HDF5 group \"/Snapshots/97\" (2 members)>), ('98', <HDF5 group \"/Snapshots/98\" (2 members)>), ('99', <HDF5 group \"/Snapshots/99\" (2 members)>)]\n",
      "items in g1 [('Header', <HDF5 group \"/Snapshots/99/Header\" (0 members)>), ('PartType1', <HDF5 group \"/Snapshots/99/PartType1\" (8 members)>)]\n",
      "Halos [('Coordinates', <HDF5 dataset \"Coordinates\": shape (19683000, 3), type \"<f8\">), ('ParticleIDs', <HDF5 dataset \"ParticleIDs\": shape (19683000,), type \"<u8\">), ('Potential', <HDF5 dataset \"Potential\": shape (19683000,), type \"<f4\">), ('SubfindDMDensity', <HDF5 dataset \"SubfindDMDensity\": shape (19683000,), type \"<f4\">), ('SubfindDensity', <HDF5 dataset \"SubfindDensity\": shape (19683000,), type \"<f4\">), ('SubfindHsml', <HDF5 dataset \"SubfindHsml\": shape (19683000,), type \"<f4\">), ('SubfindVelDisp', <HDF5 dataset \"SubfindVelDisp\": shape (19683000,), type \"<f4\">), ('Velocities', <HDF5 dataset \"Velocities\": shape (19683000, 3), type \"<f4\">)]\n"
     ]
    }
   ],
   "source": [
    "with h5py.File('simulation.hdf5','r') as hdf:\n",
    "    base_items = list(hdf.items())\n",
    "    print(\"items in the base directory\", base_items)\n",
    "    g1 = hdf.get('Snapshots')\n",
    "    g1_items = list(g1.items())\n",
    "    print(\"items in group\", g1_items)\n",
    "    g2 = g1.get('99')\n",
    "    g2_items = list(g2.items())\n",
    "    print(\"items in g1\", g2_items)\n",
    "    halo = g2.get('PartType1')\n",
    "    halo_items = list(halo.items())\n",
    "    print(\"Halos\", halo_items)\n",
    "    ID = halo.get('Coordinates')\n",
    "    dataset2= np.array(ID)"
   ]
  },
  {
   "cell_type": "code",
   "execution_count": 6,
   "metadata": {},
   "outputs": [
    {
     "name": "stdout",
     "output_type": "stream",
     "text": [
      "(19683000, 3)\n"
     ]
    }
   ],
   "source": [
    "dataset2\n",
    "print(np.shape(dataset2))"
   ]
  },
  {
   "cell_type": "code",
   "execution_count": 7,
   "metadata": {},
   "outputs": [
    {
     "name": "stdout",
     "output_type": "stream",
     "text": [
      "items in the base directory [('Config', <HDF5 group \"/Config\" (0 members)>), ('Groups', <HDF5 group \"/Groups\" (100 members)>), ('Header', <HDF5 group \"/Header\" (0 members)>), ('Offsets', <HDF5 group \"/Offsets\" (98 members)>), ('Parameters', <HDF5 group \"/Parameters\" (0 members)>), ('Snapshots', <HDF5 group \"/Snapshots\" (100 members)>), ('Trees', <HDF5 group \"/Trees\" (1 members)>)]\n",
      "items in group [('0', <HDF5 group \"/Groups/0\" (1 members)>), ('1', <HDF5 group \"/Groups/1\" (1 members)>), ('10', <HDF5 group \"/Groups/10\" (3 members)>), ('11', <HDF5 group \"/Groups/11\" (3 members)>), ('12', <HDF5 group \"/Groups/12\" (3 members)>), ('13', <HDF5 group \"/Groups/13\" (3 members)>), ('14', <HDF5 group \"/Groups/14\" (3 members)>), ('15', <HDF5 group \"/Groups/15\" (3 members)>), ('16', <HDF5 group \"/Groups/16\" (3 members)>), ('17', <HDF5 group \"/Groups/17\" (3 members)>), ('18', <HDF5 group \"/Groups/18\" (3 members)>), ('19', <HDF5 group \"/Groups/19\" (3 members)>), ('2', <HDF5 group \"/Groups/2\" (3 members)>), ('20', <HDF5 group \"/Groups/20\" (3 members)>), ('21', <HDF5 group \"/Groups/21\" (3 members)>), ('22', <HDF5 group \"/Groups/22\" (3 members)>), ('23', <HDF5 group \"/Groups/23\" (3 members)>), ('24', <HDF5 group \"/Groups/24\" (3 members)>), ('25', <HDF5 group \"/Groups/25\" (3 members)>), ('26', <HDF5 group \"/Groups/26\" (3 members)>), ('27', <HDF5 group \"/Groups/27\" (3 members)>), ('28', <HDF5 group \"/Groups/28\" (3 members)>), ('29', <HDF5 group \"/Groups/29\" (3 members)>), ('3', <HDF5 group \"/Groups/3\" (3 members)>), ('30', <HDF5 group \"/Groups/30\" (3 members)>), ('31', <HDF5 group \"/Groups/31\" (3 members)>), ('32', <HDF5 group \"/Groups/32\" (3 members)>), ('33', <HDF5 group \"/Groups/33\" (3 members)>), ('34', <HDF5 group \"/Groups/34\" (3 members)>), ('35', <HDF5 group \"/Groups/35\" (3 members)>), ('36', <HDF5 group \"/Groups/36\" (3 members)>), ('37', <HDF5 group \"/Groups/37\" (3 members)>), ('38', <HDF5 group \"/Groups/38\" (3 members)>), ('39', <HDF5 group \"/Groups/39\" (3 members)>), ('4', <HDF5 group \"/Groups/4\" (3 members)>), ('40', <HDF5 group \"/Groups/40\" (3 members)>), ('41', <HDF5 group \"/Groups/41\" (3 members)>), ('42', <HDF5 group \"/Groups/42\" (3 members)>), ('43', <HDF5 group \"/Groups/43\" (3 members)>), ('44', <HDF5 group \"/Groups/44\" (3 members)>), ('45', <HDF5 group \"/Groups/45\" (3 members)>), ('46', <HDF5 group \"/Groups/46\" (3 members)>), ('47', <HDF5 group \"/Groups/47\" (3 members)>), ('48', <HDF5 group \"/Groups/48\" (3 members)>), ('49', <HDF5 group \"/Groups/49\" (3 members)>), ('5', <HDF5 group \"/Groups/5\" (3 members)>), ('50', <HDF5 group \"/Groups/50\" (3 members)>), ('51', <HDF5 group \"/Groups/51\" (3 members)>), ('52', <HDF5 group \"/Groups/52\" (3 members)>), ('53', <HDF5 group \"/Groups/53\" (3 members)>), ('54', <HDF5 group \"/Groups/54\" (3 members)>), ('55', <HDF5 group \"/Groups/55\" (3 members)>), ('56', <HDF5 group \"/Groups/56\" (3 members)>), ('57', <HDF5 group \"/Groups/57\" (3 members)>), ('58', <HDF5 group \"/Groups/58\" (3 members)>), ('59', <HDF5 group \"/Groups/59\" (3 members)>), ('6', <HDF5 group \"/Groups/6\" (3 members)>), ('60', <HDF5 group \"/Groups/60\" (3 members)>), ('61', <HDF5 group \"/Groups/61\" (3 members)>), ('62', <HDF5 group \"/Groups/62\" (3 members)>), ('63', <HDF5 group \"/Groups/63\" (3 members)>), ('64', <HDF5 group \"/Groups/64\" (3 members)>), ('65', <HDF5 group \"/Groups/65\" (3 members)>), ('66', <HDF5 group \"/Groups/66\" (3 members)>), ('67', <HDF5 group \"/Groups/67\" (3 members)>), ('68', <HDF5 group \"/Groups/68\" (3 members)>), ('69', <HDF5 group \"/Groups/69\" (3 members)>), ('7', <HDF5 group \"/Groups/7\" (3 members)>), ('70', <HDF5 group \"/Groups/70\" (3 members)>), ('71', <HDF5 group \"/Groups/71\" (3 members)>), ('72', <HDF5 group \"/Groups/72\" (3 members)>), ('73', <HDF5 group \"/Groups/73\" (3 members)>), ('74', <HDF5 group \"/Groups/74\" (3 members)>), ('75', <HDF5 group \"/Groups/75\" (3 members)>), ('76', <HDF5 group \"/Groups/76\" (3 members)>), ('77', <HDF5 group \"/Groups/77\" (3 members)>), ('78', <HDF5 group \"/Groups/78\" (3 members)>), ('79', <HDF5 group \"/Groups/79\" (3 members)>), ('8', <HDF5 group \"/Groups/8\" (3 members)>), ('80', <HDF5 group \"/Groups/80\" (3 members)>), ('81', <HDF5 group \"/Groups/81\" (3 members)>), ('82', <HDF5 group \"/Groups/82\" (3 members)>), ('83', <HDF5 group \"/Groups/83\" (3 members)>), ('84', <HDF5 group \"/Groups/84\" (3 members)>), ('85', <HDF5 group \"/Groups/85\" (3 members)>), ('86', <HDF5 group \"/Groups/86\" (3 members)>), ('87', <HDF5 group \"/Groups/87\" (3 members)>), ('88', <HDF5 group \"/Groups/88\" (3 members)>), ('89', <HDF5 group \"/Groups/89\" (3 members)>), ('9', <HDF5 group \"/Groups/9\" (3 members)>), ('90', <HDF5 group \"/Groups/90\" (3 members)>), ('91', <HDF5 group \"/Groups/91\" (3 members)>), ('92', <HDF5 group \"/Groups/92\" (3 members)>), ('93', <HDF5 group \"/Groups/93\" (3 members)>), ('94', <HDF5 group \"/Groups/94\" (3 members)>), ('95', <HDF5 group \"/Groups/95\" (3 members)>), ('96', <HDF5 group \"/Groups/96\" (3 members)>), ('97', <HDF5 group \"/Groups/97\" (3 members)>), ('98', <HDF5 group \"/Groups/98\" (3 members)>), ('99', <HDF5 group \"/Groups/99\" (3 members)>)]\n",
      "items in g1 [('Group', <HDF5 group \"/Groups/99/Group\" (17 members)>), ('Header', <HDF5 group \"/Groups/99/Header\" (0 members)>), ('Subhalo', <HDF5 group \"/Groups/99/Subhalo\" (22 members)>)]\n",
      "Halos [('SubhaloCM', <HDF5 dataset \"SubhaloCM\": shape (22963, 3), type \"<f4\">), ('SubhaloGrNr', <HDF5 dataset \"SubhaloGrNr\": shape (22963,), type \"<i4\">), ('SubhaloHalfmassRad', <HDF5 dataset \"SubhaloHalfmassRad\": shape (22963,), type \"<f4\">), ('SubhaloHalfmassRadType', <HDF5 dataset \"SubhaloHalfmassRadType\": shape (22963, 6), type \"<f4\">), ('SubhaloIDMostbound', <HDF5 dataset \"SubhaloIDMostbound\": shape (22963,), type \"<u8\">), ('SubhaloLen', <HDF5 dataset \"SubhaloLen\": shape (22963,), type \"<i4\">), ('SubhaloLenType', <HDF5 dataset \"SubhaloLenType\": shape (22963, 6), type \"<i4\">), ('SubhaloMass', <HDF5 dataset \"SubhaloMass\": shape (22963,), type \"<f4\">), ('SubhaloMassInHalfRad', <HDF5 dataset \"SubhaloMassInHalfRad\": shape (22963,), type \"<f4\">), ('SubhaloMassInHalfRadType', <HDF5 dataset \"SubhaloMassInHalfRadType\": shape (22963, 6), type \"<f4\">), ('SubhaloMassInMaxRad', <HDF5 dataset \"SubhaloMassInMaxRad\": shape (22963,), type \"<f4\">), ('SubhaloMassInMaxRadType', <HDF5 dataset \"SubhaloMassInMaxRadType\": shape (22963, 6), type \"<f4\">), ('SubhaloMassInRad', <HDF5 dataset \"SubhaloMassInRad\": shape (22963,), type \"<f4\">), ('SubhaloMassInRadType', <HDF5 dataset \"SubhaloMassInRadType\": shape (22963, 6), type \"<f4\">), ('SubhaloMassType', <HDF5 dataset \"SubhaloMassType\": shape (22963, 6), type \"<f4\">), ('SubhaloParent', <HDF5 dataset \"SubhaloParent\": shape (22963,), type \"<i4\">), ('SubhaloPos', <HDF5 dataset \"SubhaloPos\": shape (22963, 3), type \"<f4\">), ('SubhaloSpin', <HDF5 dataset \"SubhaloSpin\": shape (22963, 3), type \"<f4\">), ('SubhaloVel', <HDF5 dataset \"SubhaloVel\": shape (22963, 3), type \"<f4\">), ('SubhaloVelDisp', <HDF5 dataset \"SubhaloVelDisp\": shape (22963,), type \"<f4\">), ('SubhaloVmax', <HDF5 dataset \"SubhaloVmax\": shape (22963,), type \"<f4\">), ('SubhaloVmaxRad', <HDF5 dataset \"SubhaloVmaxRad\": shape (22963,), type \"<f4\">)]\n"
     ]
    }
   ],
   "source": [
    "with h5py.File('simulation.hdf5','r') as hdf:\n",
    "    base_items = list(hdf.items())\n",
    "    print(\"items in the base directory\", base_items)\n",
    "    g1 = hdf.get('Groups')\n",
    "    g1_items = list(g1.items())\n",
    "    print(\"items in group\", g1_items)\n",
    "    g2 = g1.get('99')\n",
    "    g2_items = list(g2.items())\n",
    "    print(\"items in g1\", g2_items)\n",
    "    halo = g2.get('Subhalo')\n",
    "    halo_items = list(halo.items())\n",
    "    print(\"Halos\", halo_items)"
   ]
  },
  {
   "cell_type": "code",
   "execution_count": 8,
   "metadata": {},
   "outputs": [
    {
     "name": "stdout",
     "output_type": "stream",
     "text": [
      "[[ 7630.05037008 17754.20590938 25753.59099645]\n",
      " [ 7634.44527592 17755.37991355 25753.97450954]\n",
      " [ 7629.00456723 17751.5781142  25752.82771657]\n",
      " [ 7628.29018188 17750.7765292  25752.32336329]\n",
      " [ 7625.14499965 17758.18315427 25753.06151522]\n",
      " [ 7634.41342573 17750.7879333  25758.82589776]\n",
      " [ 7633.25038387 17751.53088514 25751.73954628]\n",
      " [ 7629.98070992 17751.22247306 25755.16955422]\n",
      " [ 7630.42064789 17755.68085487 25755.88273135]\n",
      " [ 7633.83938309 17751.89435009 25761.58571921]\n",
      " [ 7629.8405228  17761.02960367 25761.4293517 ]\n",
      " [ 7625.16226921 17756.24564111 25751.80653396]\n",
      " [ 7625.42715212 17759.23991413 25755.91384974]\n",
      " [ 7636.61302819 17757.63930442 25759.63760926]\n",
      " [ 7635.9074323  17756.35445504 25759.13712183]\n",
      " [ 7626.51526273 17758.9193137  25754.74135715]\n",
      " [ 7632.01150337 17746.92057043 25757.31418694]\n",
      " [ 7635.88927111 17758.75868479 25756.1384629 ]\n",
      " [ 7633.0781001  17755.08452936 25753.83268985]\n",
      " [ 7625.85024187 17757.81624549 25754.33606207]\n",
      " [ 7625.48566619 17750.01971229 25752.78919203]\n",
      " [ 7635.2241357  17761.04762    25761.47729292]\n",
      " [ 7636.51530851 17755.30668874 25765.67635968]\n",
      " [ 7637.59264985 17754.64928203 25751.311862  ]\n",
      " [ 7632.13557636 17756.61982974 25754.59166095]\n",
      " [ 7627.02256994 17754.92336505 25748.34182032]\n",
      " [ 7628.58011834 17748.82727283 25752.93760804]\n",
      " [ 7629.51238006 17752.89487532 25753.60666024]\n",
      " [ 7630.70006095 17752.72657922 25761.01694128]\n",
      " [ 7631.14549908 17744.97275985 25760.00780541]\n",
      " [ 7623.0764454  17746.45038881 25761.5297936 ]\n",
      " [ 7630.57596069 17749.47837233 25762.09518556]\n",
      " [ 7631.55606278 17743.8912927  25763.044808  ]\n",
      " [ 7633.4422655  17751.23238186 25758.2684877 ]\n",
      " [ 7631.99143377 17758.76287303 25751.61544932]\n",
      " [ 7636.20691628 17759.4343149  25757.70201552]\n",
      " [ 7639.8980968  17758.97523392 25763.93758344]\n",
      " [ 7624.41481139 17756.60427571 25753.63362736]\n",
      " [ 7634.54255857 17754.28115979 25752.26769733]\n",
      " [ 7639.23618905 17754.06890278 25760.39288287]\n",
      " [ 7623.62830853 17755.33629856 25759.25897533]\n",
      " [ 7621.86182425 17757.96690376 25753.59331275]\n",
      " [ 7634.55677669 17755.69898529 25753.17289059]\n",
      " [ 7638.76287124 17760.81557012 25763.63904881]\n",
      " [ 7626.0232377  17757.04270778 25769.314881  ]\n",
      " [ 7627.22253393 17746.92220073 25767.61700133]\n",
      " [ 7630.56114617 17762.87818261 25762.87404318]\n",
      " [ 7634.14631943 17750.59553417 25768.01523833]\n",
      " [ 7641.12998487 17750.1172719  25760.82798623]\n",
      " [ 7630.09215983 17751.44308738 25749.91390509]\n",
      " [ 7636.89135935 17752.65221736 25755.3475311 ]\n",
      " [ 7617.99504748 17752.4606774  25751.63307779]\n",
      " [ 7634.38511908 17752.46205584 25768.55425351]\n",
      " [ 7634.74037725 17750.85079843 25765.61816638]\n",
      " [ 7628.89094776 17749.87691704 25751.5372175 ]\n",
      " [ 7626.27923164 17747.85643189 25751.32141675]\n",
      " [ 7637.51855508 17772.96296429 25754.59469064]\n",
      " [ 7622.69331037 17746.47856392 25758.09826871]\n",
      " [ 7636.68267133 17761.49401967 25764.90241644]\n",
      " [ 7631.06975353 17742.53210197 25742.29953155]\n",
      " [ 7636.11319152 17740.62647681 25762.88982361]\n",
      " [ 7640.3825675  17760.53374324 25754.08518146]\n",
      " [ 7626.846943   17767.3897877  25765.15028939]\n",
      " [ 7635.51298167 17778.37344128 25754.64478369]\n",
      " [ 7634.45607436 17757.03429723 25759.7270012 ]\n",
      " [ 7637.85748044 17743.33428305 25754.27788964]\n",
      " [ 7638.216382   17754.36340533 25762.28698743]\n",
      " [ 7631.56445832 17758.18815642 25760.44404283]\n",
      " [ 7635.54403774 17745.04103801 25747.72139566]\n",
      " [ 7624.58355219 17749.89105005 25762.95933737]\n",
      " [ 7631.6977437  17748.80921657 25767.59044625]\n",
      " [ 7648.41623941 17748.34708538 25766.94062866]\n",
      " [ 7636.23309256 17777.08532823 25756.58916034]\n",
      " [ 7622.98550714 17746.32228856 25762.04322035]\n",
      " [ 7647.45652273 17755.38889433 25766.34760999]\n",
      " [ 7636.54295536 17748.18506198 25765.71317713]\n",
      " [ 7626.17728852 17756.24845258 25756.24981516]\n",
      " [ 7623.05617688 17746.66338988 25744.08866303]\n",
      " [ 7626.76836325 17762.84004776 25769.80704101]\n",
      " [ 7636.86900617 17772.14168372 25748.2368358 ]\n",
      " [ 7650.99703631 17768.5533966  25746.91804362]\n",
      " [ 7627.39493569 17754.71135963 25763.16408214]\n",
      " [ 7637.47634798 17748.0337731  25759.85055451]\n",
      " [ 7632.76286591 17750.59618866 25734.58862625]\n",
      " [ 7647.24600125 17775.56174555 25757.41364918]\n",
      " [ 7641.00438308 17754.39385466 25751.19529554]\n",
      " [ 7648.889536   17756.69459567 25746.83230655]\n",
      " [ 7622.02010812 17760.90785503 25728.29976094]\n",
      " [ 7631.43073299 17749.95290249 25766.16367633]\n",
      " [ 7633.01726212 17758.29502764 25740.42701788]\n",
      " [ 7628.00565288 17764.15551592 25738.94554502]\n",
      " [ 7645.19714768 17785.19333274 25753.73014959]\n",
      " [ 7645.37470003 17747.3792393  25771.51956793]\n",
      " [ 7636.57249181 17748.721308   25769.22841156]\n",
      " [ 7649.92939959 17783.66531137 25753.62446832]\n",
      " [ 7635.49037357 17782.9936386  25755.51988046]\n",
      " [ 7634.79059957 17752.81066999 25750.33555969]\n",
      " [ 7626.12945919 17764.60678551 25729.57360415]\n",
      " [ 7611.4313701  17748.99017339 25749.63665991]\n",
      " [ 7635.09486251 17780.25104486 25757.25313323]\n",
      " [ 7601.19684792 17748.06514944 25746.47109948]\n",
      " [ 7619.02816832 17749.94308455 25754.43054084]\n",
      " [ 7651.53046115 17783.52973659 25754.12246129]\n",
      " [ 7616.89720804 17747.78516862 25745.23279138]\n",
      " [ 7619.88146523 17764.78950691 25769.15284111]\n",
      " [ 7602.30266447 17748.33282188 25743.51530284]\n",
      " [ 7627.97763103 17736.39697132 25767.42344185]\n",
      " [ 7611.41435502 17762.26034865 25757.21754642]\n",
      " [ 7632.57110132 17754.48217282 25745.15440313]\n",
      " [ 7638.35983009 17779.26549182 25751.20712148]\n",
      " [ 7636.53599874 17773.99358186 25759.97305424]\n",
      " [ 7632.93768016 17775.49739054 25769.87387926]\n",
      " [ 7638.57024062 17779.90479572 25760.51672668]\n",
      " [ 7630.21394141 17743.21255267 25735.65532909]\n",
      " [ 7661.91566353 17758.05208629 25759.33601523]\n",
      " [ 7617.99618292 17761.04612743 25741.04050722]\n",
      " [ 7643.13179247 17752.55524713 25759.75424407]\n",
      " [ 7632.60005215 17747.14252416 25744.42250027]\n",
      " [ 7616.81398949 17739.82456485 25765.04247083]\n",
      " [ 7606.57089587 17752.75354583 25729.52235402]\n",
      " [ 7643.5665433  17737.90397181 25768.62394807]\n",
      " [ 7607.31479139 17775.40029346 25764.61039267]\n",
      " [ 7653.69668879 17742.23628811 25773.09405392]\n",
      " [ 7631.81233208 17778.01695203 25753.17581646]\n",
      " [ 7606.87730848 17759.42893173 25768.16966342]\n",
      " [ 7628.33309142 17732.3569675  25776.79227102]\n",
      " [ 7623.04927615 17757.49189004 25767.80751784]\n",
      " [ 7655.81227083 17777.32418721 25755.33519089]\n",
      " [ 7638.68115522 17764.12603365 25742.64886095]\n",
      " [ 7645.64701496 17771.3013783  25759.90441208]\n",
      " [ 7619.14148405 17758.74497092 25757.50266359]\n",
      " [ 7618.96168698 17716.88406842 25761.18844489]\n",
      " [ 7616.42002838 17745.38074033 25732.09084647]\n",
      " [ 7634.34339074 17746.44676445 25787.30125912]\n",
      " [ 7636.38380743 17743.67957583 25738.79102356]\n",
      " [ 7624.58490613 17747.54152271 25770.82654893]\n",
      " [ 7640.51433738 17746.92953448 25765.55794464]\n",
      " [ 7630.25380481 17744.31094485 25759.07905172]\n",
      " [ 7638.51998253 17788.42887245 25754.40535279]\n",
      " [ 7645.57113026 17778.94476893 25762.34170114]\n",
      " [ 7662.47284889 17767.21911161 25736.30321529]\n",
      " [ 7647.87019874 17794.13991283 25753.75323878]\n",
      " [ 7619.85411299 17755.113012   25756.67831692]\n",
      " [ 7645.07774437 17732.01738266 25738.64474752]\n",
      " [ 7587.17339592 17768.1872365  25759.76556668]\n",
      " [ 7619.75823116 17729.88370423 25750.35850896]\n",
      " [ 7607.76980845 17753.36677914 25737.44279738]\n",
      " [ 7606.09183348 17752.3881385  25744.03550662]\n",
      " [ 7589.66024079 17752.25327111 25761.4867492 ]\n",
      " [ 7602.1664443  17773.75343899 25782.05303492]\n",
      " [ 7594.31066231 17773.83656721 25769.97268238]\n",
      " [ 7659.17275764 17789.70654007 25743.8830744 ]\n",
      " [ 7650.87236682 17798.76309629 25749.65450991]\n",
      " [ 7676.30051137 17731.85777319 25766.59271282]\n",
      " [ 7650.1777606  17748.25625913 25754.61961314]\n",
      " [ 7627.44347816 17758.15490027 25748.90499097]\n",
      " [ 7618.19430908 17764.24772327 25732.26051376]\n",
      " [ 7650.75820052 17742.30857019 25757.46378555]\n",
      " [ 7646.38119068 17756.88409031 25754.0537274 ]\n",
      " [ 7637.42538874 17744.63914872 25790.90701192]\n",
      " [ 7585.95400663 17760.96449735 25717.89819898]\n",
      " [ 7674.45923739 17731.6171407  25768.78557412]\n",
      " [ 7634.22468851 17765.90538535 25737.29237656]\n",
      " [ 7622.93499988 17755.60209642 25717.74974739]\n",
      " [ 7629.71000028 17755.38693508 25738.055918  ]\n",
      " [ 7573.76854278 17748.45392613 25764.11168696]\n",
      " [ 7642.31430609 17752.56223807 25794.84045644]\n",
      " [ 7585.81920651 17759.11143056 25734.06611636]\n",
      " [ 7616.40451528 17756.81082342 25743.81732049]\n",
      " [ 7648.22267965 17734.23185147 25754.72301678]\n",
      " [ 7608.8379768  17732.99632174 25766.22221554]\n",
      " [ 7635.48040112 17770.53571035 25754.79308472]\n",
      " [ 7633.12826858 17722.84416546 25774.74437572]\n",
      " [ 7636.14605368 17752.13743718 25734.30616598]\n",
      " [ 7607.89466196 17728.38591521 25806.30988655]\n",
      " [ 7642.31741305 17732.00363364 25747.36850557]\n",
      " [ 7637.73789607 17757.37852505 25740.0641975 ]\n",
      " [ 7657.33528738 17772.65515265 25774.36089092]\n",
      " [ 7636.77453736 17747.52973196 25744.67627146]\n",
      " [ 7635.18815966 17780.98383202 25756.61528517]\n",
      " [ 7587.18084103 17777.78377727 25708.06135222]\n",
      " [ 7581.6905176  17737.88885982 25794.4566732 ]\n",
      " [ 7653.20061454 17786.03262466 25763.6653634 ]\n",
      " [ 7647.70791973 17812.02852294 25754.27285912]\n",
      " [ 7607.7953556  17748.81016886 25743.25656558]\n",
      " [ 7666.67372135 17739.11613316 25780.25628459]\n",
      " [ 7637.03177633 17750.39718238 25735.35722879]\n",
      " [ 7612.52358163 17781.64957841 25778.51419253]\n",
      " [ 7593.30919226 17746.83843443 25742.00320242]\n",
      " [ 7580.74864635 17786.03605669 25715.10045149]\n",
      " [ 7641.56201059 17764.87573517 25733.41337241]\n",
      " [ 7610.4638733  17801.61169925 25790.3873308 ]\n",
      " [ 7599.80426427 17755.68155177 25798.26003611]\n",
      " [ 7609.92028756 17799.44386438 25739.92023758]\n",
      " [ 7628.61633261 17743.99746672 25744.20710789]\n",
      " [ 7629.98104013 17793.11800366 25797.17725929]\n",
      " [ 7648.59949618 17717.04346564 25736.56680239]\n",
      " [ 7662.5965478  17758.33599886 25713.01939476]\n",
      " [ 7611.24064239 17753.32479271 25745.73111522]\n",
      " [ 7652.66366032 17755.91908809 25709.00548204]\n",
      " [ 7635.52412187 17756.06582323 25787.56704953]\n",
      " [ 7567.61121136 17789.71227198 25691.37061645]\n",
      " [ 7657.95846422 17729.0222932  25779.676114  ]\n",
      " [ 7599.91032306 17731.63179057 25802.16000991]\n",
      " [ 7651.01046371 17750.48383506 25772.31171777]\n",
      " [ 7654.32258447 17724.74717857 25785.26124706]\n",
      " [ 7665.56752701 17783.76049286 25761.12769618]\n",
      " [ 7619.38692976 17766.59303031 25757.37693672]\n",
      " [ 7592.59970608 17773.06324211 25697.98198434]\n",
      " [ 7548.31746845 17788.22817257 25693.5402292 ]\n",
      " [ 7627.33240662 17805.16585111 25807.55323385]\n",
      " [ 7645.48548627 17747.65068666 25763.88899119]\n",
      " [ 7642.91040482 17812.74814684 25754.79940408]\n",
      " [ 7634.91102691 17757.99818276 25740.45889671]\n",
      " [ 7606.78011779 17768.45766865 25820.79917354]\n",
      " [ 7653.50583765 17823.11958491 25767.47822302]\n",
      " [ 7643.63600423 17742.09103174 25750.60065854]\n",
      " [ 7577.1380231  17754.02305384 25708.90324461]\n",
      " [ 7608.53571489 17814.16070744 25727.93277709]\n",
      " [ 7607.62986595 17741.4955082  25790.10681176]\n",
      " [ 7596.19789373 17753.64281883 25732.76778536]\n",
      " [ 7667.76276023 17770.10748053 25769.55698865]\n",
      " [ 7629.16932631 17775.90595338 25793.76061479]\n",
      " [ 7564.60102488 17761.73615884 25737.46791576]\n",
      " [ 7597.0288756  17757.30743023 25732.65756731]\n",
      " [ 7683.60557688 17747.23343067 25765.60437431]\n",
      " [ 7602.33531233 17831.8818811  25709.61577381]\n",
      " [ 7615.89594956 17723.5525718  25732.01138023]\n",
      " [ 7624.07166622 17785.9388386  25808.59811482]\n",
      " [ 7619.20285253 17797.44294029 25739.03655854]\n",
      " [ 7563.09715428 17783.64966372 25719.52232298]\n",
      " [ 7670.92708472 17776.16956634 25738.83270294]\n",
      " [ 7651.45557413 17762.16094422 25732.52829367]\n",
      " [ 7675.79595043 17788.34907298 25728.23392531]\n",
      " [ 7653.68279185 17731.92761101 25784.24030069]\n",
      " [ 7555.06297784 17768.00105045 25697.7828873 ]\n",
      " [ 7656.85846018 17786.95306096 25756.16671776]\n",
      " [ 7560.94735478 17758.48621212 25690.35714529]\n",
      " [ 7532.44659603 17739.68417937 25667.20916627]\n",
      " [ 7649.66565244 17747.92574161 25766.64624059]\n",
      " [ 7555.89956671 17770.37244751 25692.31477595]\n",
      " [ 7537.41437103 17768.04355609 25680.98774815]\n",
      " [ 7618.96658227 17751.88315515 25741.97859503]\n",
      " [ 7527.45390796 17745.93146167 25668.14524637]]\n"
     ]
    }
   ],
   "source": [
    "halo_id = 3000\n",
    "part_type = 1\n",
    "\n",
    "with h5py.File('simulation.hdf5','r') as f:\n",
    "    start = f['/Offsets/99/Group/SnapByType'][halo_id, part_type]\n",
    "    length = f['/Groups/99/Group/GroupLenType'][halo_id, part_type]\n",
    "\n",
    "    dm_positions = f['/Snapshots/99/PartType1/Coordinates'][start:start+length,:]\n",
    "    \n",
    "    print(dm_positions)"
   ]
  },
  {
   "cell_type": "code",
   "execution_count": 9,
   "metadata": {},
   "outputs": [
    {
     "name": "stdout",
     "output_type": "stream",
     "text": [
      "[-3308686.   -3307920.2  -3310257.5  ...   -84379.76   -85486.23\n",
      "   -67484.76]\n"
     ]
    }
   ],
   "source": [
    "with h5py.File('simulation.hdf5','r') as f:\n",
    "    gas_cell_mass = f['/Snapshots/99/PartType1/Potential'][()]\n",
    "    print(gas_cell_mass)\n",
    "    #subhalo_size_stars = f['/Groups/99/Subhalos/SubhaloHalfmassRadType'][:,4]"
   ]
  },
  {
   "cell_type": "code",
   "execution_count": 10,
   "metadata": {},
   "outputs": [
    {
     "name": "stdout",
     "output_type": "stream",
     "text": [
      "Defaulting to user installation because normal site-packages is not writeable\n",
      "Processing ./illustris_python\n",
      "  Preparing metadata (setup.py) ... \u001b[?25ldone\n",
      "\u001b[?25hRequirement already satisfied: h5py in /home/group10/.local/lib/python3.10/site-packages (from illustris-python==1.0.0) (3.10.0)\n",
      "Requirement already satisfied: numpy in /usr/local/lib/python3.10/dist-packages (from illustris-python==1.0.0) (1.26.4)\n",
      "Requirement already satisfied: six in /usr/lib/python3/dist-packages (from illustris-python==1.0.0) (1.16.0)\n",
      "Building wheels for collected packages: illustris-python\n",
      "  Building wheel for illustris-python (setup.py) ... \u001b[?25ldone\n",
      "\u001b[?25h  Created wheel for illustris-python: filename=illustris_python-1.0.0-py3-none-any.whl size=15069 sha256=101f09a234f822819bb22f924f2d976cc3a340a6903c1c1acc74e4c1e27ee1b0\n",
      "  Stored in directory: /tmp/pip-ephem-wheel-cache-p7he481q/wheels/1f/93/21/82d071861997dfbdd2316009496ad3b800b86a00dd7b025719\n",
      "Successfully built illustris-python\n",
      "Installing collected packages: illustris-python\n",
      "  Attempting uninstall: illustris-python\n",
      "    Found existing installation: illustris-python 1.0.0\n",
      "    Uninstalling illustris-python-1.0.0:\n",
      "      Successfully uninstalled illustris-python-1.0.0\n",
      "Successfully installed illustris-python-1.0.0\n",
      "Note: you may need to restart the kernel to use updated packages.\n"
     ]
    }
   ],
   "source": [
    "pip install illustris_python/"
   ]
  },
  {
   "cell_type": "code",
   "execution_count": 11,
   "metadata": {},
   "outputs": [
    {
     "name": "stdout",
     "output_type": "stream",
     "text": [
      "items in the base directory [('Config', <HDF5 group \"/Config\" (0 members)>), ('Groups', <HDF5 group \"/Groups\" (100 members)>), ('Header', <HDF5 group \"/Header\" (0 members)>), ('Offsets', <HDF5 group \"/Offsets\" (98 members)>), ('Parameters', <HDF5 group \"/Parameters\" (0 members)>), ('Snapshots', <HDF5 group \"/Snapshots\" (100 members)>), ('Trees', <HDF5 group \"/Trees\" (1 members)>)]\n",
      "items in group [('0', <HDF5 group \"/Snapshots/0\" (2 members)>), ('1', <HDF5 group \"/Snapshots/1\" (2 members)>), ('10', <HDF5 group \"/Snapshots/10\" (2 members)>), ('11', <HDF5 group \"/Snapshots/11\" (2 members)>), ('12', <HDF5 group \"/Snapshots/12\" (2 members)>), ('13', <HDF5 group \"/Snapshots/13\" (2 members)>), ('14', <HDF5 group \"/Snapshots/14\" (2 members)>), ('15', <HDF5 group \"/Snapshots/15\" (2 members)>), ('16', <HDF5 group \"/Snapshots/16\" (2 members)>), ('17', <HDF5 group \"/Snapshots/17\" (2 members)>), ('18', <HDF5 group \"/Snapshots/18\" (2 members)>), ('19', <HDF5 group \"/Snapshots/19\" (2 members)>), ('2', <HDF5 group \"/Snapshots/2\" (2 members)>), ('20', <HDF5 group \"/Snapshots/20\" (2 members)>), ('21', <HDF5 group \"/Snapshots/21\" (2 members)>), ('22', <HDF5 group \"/Snapshots/22\" (2 members)>), ('23', <HDF5 group \"/Snapshots/23\" (2 members)>), ('24', <HDF5 group \"/Snapshots/24\" (2 members)>), ('25', <HDF5 group \"/Snapshots/25\" (2 members)>), ('26', <HDF5 group \"/Snapshots/26\" (2 members)>), ('27', <HDF5 group \"/Snapshots/27\" (2 members)>), ('28', <HDF5 group \"/Snapshots/28\" (2 members)>), ('29', <HDF5 group \"/Snapshots/29\" (2 members)>), ('3', <HDF5 group \"/Snapshots/3\" (2 members)>), ('30', <HDF5 group \"/Snapshots/30\" (2 members)>), ('31', <HDF5 group \"/Snapshots/31\" (2 members)>), ('32', <HDF5 group \"/Snapshots/32\" (2 members)>), ('33', <HDF5 group \"/Snapshots/33\" (2 members)>), ('34', <HDF5 group \"/Snapshots/34\" (2 members)>), ('35', <HDF5 group \"/Snapshots/35\" (2 members)>), ('36', <HDF5 group \"/Snapshots/36\" (2 members)>), ('37', <HDF5 group \"/Snapshots/37\" (2 members)>), ('38', <HDF5 group \"/Snapshots/38\" (2 members)>), ('39', <HDF5 group \"/Snapshots/39\" (2 members)>), ('4', <HDF5 group \"/Snapshots/4\" (2 members)>), ('40', <HDF5 group \"/Snapshots/40\" (2 members)>), ('41', <HDF5 group \"/Snapshots/41\" (2 members)>), ('42', <HDF5 group \"/Snapshots/42\" (2 members)>), ('43', <HDF5 group \"/Snapshots/43\" (2 members)>), ('44', <HDF5 group \"/Snapshots/44\" (2 members)>), ('45', <HDF5 group \"/Snapshots/45\" (2 members)>), ('46', <HDF5 group \"/Snapshots/46\" (2 members)>), ('47', <HDF5 group \"/Snapshots/47\" (2 members)>), ('48', <HDF5 group \"/Snapshots/48\" (2 members)>), ('49', <HDF5 group \"/Snapshots/49\" (2 members)>), ('5', <HDF5 group \"/Snapshots/5\" (2 members)>), ('50', <HDF5 group \"/Snapshots/50\" (2 members)>), ('51', <HDF5 group \"/Snapshots/51\" (2 members)>), ('52', <HDF5 group \"/Snapshots/52\" (2 members)>), ('53', <HDF5 group \"/Snapshots/53\" (2 members)>), ('54', <HDF5 group \"/Snapshots/54\" (2 members)>), ('55', <HDF5 group \"/Snapshots/55\" (2 members)>), ('56', <HDF5 group \"/Snapshots/56\" (2 members)>), ('57', <HDF5 group \"/Snapshots/57\" (2 members)>), ('58', <HDF5 group \"/Snapshots/58\" (2 members)>), ('59', <HDF5 group \"/Snapshots/59\" (2 members)>), ('6', <HDF5 group \"/Snapshots/6\" (2 members)>), ('60', <HDF5 group \"/Snapshots/60\" (2 members)>), ('61', <HDF5 group \"/Snapshots/61\" (2 members)>), ('62', <HDF5 group \"/Snapshots/62\" (2 members)>), ('63', <HDF5 group \"/Snapshots/63\" (2 members)>), ('64', <HDF5 group \"/Snapshots/64\" (2 members)>), ('65', <HDF5 group \"/Snapshots/65\" (2 members)>), ('66', <HDF5 group \"/Snapshots/66\" (2 members)>), ('67', <HDF5 group \"/Snapshots/67\" (2 members)>), ('68', <HDF5 group \"/Snapshots/68\" (2 members)>), ('69', <HDF5 group \"/Snapshots/69\" (2 members)>), ('7', <HDF5 group \"/Snapshots/7\" (2 members)>), ('70', <HDF5 group \"/Snapshots/70\" (2 members)>), ('71', <HDF5 group \"/Snapshots/71\" (2 members)>), ('72', <HDF5 group \"/Snapshots/72\" (2 members)>), ('73', <HDF5 group \"/Snapshots/73\" (2 members)>), ('74', <HDF5 group \"/Snapshots/74\" (2 members)>), ('75', <HDF5 group \"/Snapshots/75\" (2 members)>), ('76', <HDF5 group \"/Snapshots/76\" (2 members)>), ('77', <HDF5 group \"/Snapshots/77\" (2 members)>), ('78', <HDF5 group \"/Snapshots/78\" (2 members)>), ('79', <HDF5 group \"/Snapshots/79\" (2 members)>), ('8', <HDF5 group \"/Snapshots/8\" (2 members)>), ('80', <HDF5 group \"/Snapshots/80\" (2 members)>), ('81', <HDF5 group \"/Snapshots/81\" (2 members)>), ('82', <HDF5 group \"/Snapshots/82\" (2 members)>), ('83', <HDF5 group \"/Snapshots/83\" (2 members)>), ('84', <HDF5 group \"/Snapshots/84\" (2 members)>), ('85', <HDF5 group \"/Snapshots/85\" (2 members)>), ('86', <HDF5 group \"/Snapshots/86\" (2 members)>), ('87', <HDF5 group \"/Snapshots/87\" (2 members)>), ('88', <HDF5 group \"/Snapshots/88\" (2 members)>), ('89', <HDF5 group \"/Snapshots/89\" (2 members)>), ('9', <HDF5 group \"/Snapshots/9\" (2 members)>), ('90', <HDF5 group \"/Snapshots/90\" (2 members)>), ('91', <HDF5 group \"/Snapshots/91\" (2 members)>), ('92', <HDF5 group \"/Snapshots/92\" (2 members)>), ('93', <HDF5 group \"/Snapshots/93\" (2 members)>), ('94', <HDF5 group \"/Snapshots/94\" (2 members)>), ('95', <HDF5 group \"/Snapshots/95\" (2 members)>), ('96', <HDF5 group \"/Snapshots/96\" (2 members)>), ('97', <HDF5 group \"/Snapshots/97\" (2 members)>), ('98', <HDF5 group \"/Snapshots/98\" (2 members)>), ('99', <HDF5 group \"/Snapshots/99\" (2 members)>)]\n",
      "items in g1 [('Header', <HDF5 group \"/Snapshots/99/Header\" (0 members)>), ('PartType1', <HDF5 group \"/Snapshots/99/PartType1\" (8 members)>)]\n"
     ]
    },
    {
     "ename": "AttributeError",
     "evalue": "'NoneType' object has no attribute 'items'",
     "output_type": "error",
     "traceback": [
      "\u001b[0;31m---------------------------------------------------------------------------\u001b[0m",
      "\u001b[0;31mAttributeError\u001b[0m                            Traceback (most recent call last)",
      "Cell \u001b[0;32mIn[11], line 11\u001b[0m\n\u001b[1;32m      9\u001b[0m \u001b[38;5;28mprint\u001b[39m(\u001b[38;5;124m\"\u001b[39m\u001b[38;5;124mitems in g1\u001b[39m\u001b[38;5;124m\"\u001b[39m, g2_items)\n\u001b[1;32m     10\u001b[0m halo \u001b[38;5;241m=\u001b[39m g2\u001b[38;5;241m.\u001b[39mget(\u001b[38;5;124m'\u001b[39m\u001b[38;5;124mSubhalo\u001b[39m\u001b[38;5;124m'\u001b[39m)\n\u001b[0;32m---> 11\u001b[0m halo_items \u001b[38;5;241m=\u001b[39m \u001b[38;5;28mlist\u001b[39m(\u001b[43mhalo\u001b[49m\u001b[38;5;241;43m.\u001b[39;49m\u001b[43mitems\u001b[49m())\n\u001b[1;32m     12\u001b[0m \u001b[38;5;28mprint\u001b[39m(\u001b[38;5;124m\"\u001b[39m\u001b[38;5;124mHalos\u001b[39m\u001b[38;5;124m\"\u001b[39m, halo_items)\n\u001b[1;32m     13\u001b[0m ID \u001b[38;5;241m=\u001b[39m halo\u001b[38;5;241m.\u001b[39mget(\u001b[38;5;124m'\u001b[39m\u001b[38;5;124mParticleIDs\u001b[39m\u001b[38;5;124m'\u001b[39m)\n",
      "\u001b[0;31mAttributeError\u001b[0m: 'NoneType' object has no attribute 'items'"
     ]
    }
   ],
   "source": [
    "with h5py.File('simulation.hdf5','r') as hdf:\n",
    "    base_items = list(hdf.items())\n",
    "    print(\"items in the base directory\", base_items)\n",
    "    g1 = hdf.get('Snapshots')\n",
    "    g1_items = list(g1.items())\n",
    "    print(\"items in group\", g1_items)\n",
    "    g2 = g1.get('99')\n",
    "    g2_items = list(g2.items())\n",
    "    print(\"items in g1\", g2_items)\n",
    "    halo = g2.get('Subhalo')\n",
    "    halo_items = list(halo.items())\n",
    "    print(\"Halos\", halo_items)\n",
    "    ID = halo.get('ParticleIDs')\n",
    "    print(np.shape(ID))"
   ]
  }
 ],
 "metadata": {
  "kernelspec": {
   "display_name": "Python 3",
   "language": "python",
   "name": "python3"
  },
  "language_info": {
   "codemirror_mode": {
    "name": "ipython",
    "version": 3
   },
   "file_extension": ".py",
   "mimetype": "text/x-python",
   "name": "python",
   "nbconvert_exporter": "python",
   "pygments_lexer": "ipython3",
   "version": "3.10.12"
  }
 },
 "nbformat": 4,
 "nbformat_minor": 2
}
