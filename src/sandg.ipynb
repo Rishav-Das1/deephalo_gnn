{
 "cells": [
  {
   "cell_type": "code",
   "execution_count": 2,
   "metadata": {},
   "outputs": [],
   "source": [
    "import h5py\n",
    "import numpy as np\n",
    "import matplotlib.pyplot as plt\n",
    "import illustris_python as il"
   ]
  },
  {
   "cell_type": "code",
   "execution_count": 28,
   "metadata": {},
   "outputs": [
    {
     "name": "stdout",
     "output_type": "stream",
     "text": [
      "list of datasets in this file: \n",
      " ['Config', 'Group', 'Header', 'IDs', 'Parameters', 'Subhalo']\n",
      "items if subhalos [('SubhaloCM', <HDF5 dataset \"SubhaloCM\": shape (1355, 3), type \"<f4\">), ('SubhaloGrNr', <HDF5 dataset \"SubhaloGrNr\": shape (1355,), type \"<i4\">), ('SubhaloHalfmassRad', <HDF5 dataset \"SubhaloHalfmassRad\": shape (1355,), type \"<f4\">), ('SubhaloHalfmassRadType', <HDF5 dataset \"SubhaloHalfmassRadType\": shape (1355, 6), type \"<f4\">), ('SubhaloIDMostbound', <HDF5 dataset \"SubhaloIDMostbound\": shape (1355,), type \"<u8\">), ('SubhaloLen', <HDF5 dataset \"SubhaloLen\": shape (1355,), type \"<i4\">), ('SubhaloLenType', <HDF5 dataset \"SubhaloLenType\": shape (1355, 6), type \"<i4\">), ('SubhaloMass', <HDF5 dataset \"SubhaloMass\": shape (1355,), type \"<f4\">), ('SubhaloMassInHalfRad', <HDF5 dataset \"SubhaloMassInHalfRad\": shape (1355,), type \"<f4\">), ('SubhaloMassInHalfRadType', <HDF5 dataset \"SubhaloMassInHalfRadType\": shape (1355, 6), type \"<f4\">), ('SubhaloMassInMaxRad', <HDF5 dataset \"SubhaloMassInMaxRad\": shape (1355,), type \"<f4\">), ('SubhaloMassInMaxRadType', <HDF5 dataset \"SubhaloMassInMaxRadType\": shape (1355, 6), type \"<f4\">), ('SubhaloMassInRad', <HDF5 dataset \"SubhaloMassInRad\": shape (1355,), type \"<f4\">), ('SubhaloMassInRadType', <HDF5 dataset \"SubhaloMassInRadType\": shape (1355, 6), type \"<f4\">), ('SubhaloMassType', <HDF5 dataset \"SubhaloMassType\": shape (1355, 6), type \"<f4\">), ('SubhaloParent', <HDF5 dataset \"SubhaloParent\": shape (1355,), type \"<i4\">), ('SubhaloPos', <HDF5 dataset \"SubhaloPos\": shape (1355, 3), type \"<f4\">), ('SubhaloSpin', <HDF5 dataset \"SubhaloSpin\": shape (1355, 3), type \"<f4\">), ('SubhaloVel', <HDF5 dataset \"SubhaloVel\": shape (1355, 3), type \"<f4\">), ('SubhaloVelDisp', <HDF5 dataset \"SubhaloVelDisp\": shape (1355,), type \"<f4\">), ('SubhaloVmax', <HDF5 dataset \"SubhaloVmax\": shape (1355,), type \"<f4\">), ('SubhaloVmaxRad', <HDF5 dataset \"SubhaloVmaxRad\": shape (1355,), type \"<f4\">)]\n"
     ]
    }
   ],
   "source": [
    "with h5py.File('/home/group10/TNGDataScripts/TNG50-4-Dark/output/groups_099/fof_subhalo_tab_099.0.hdf5','r') as hdf:\n",
    "    ls = list(hdf.keys())\n",
    "    print(\"list of datasets in this file: \\n\", ls)\n",
    "    data = hdf.get('Subhalo')\n",
    "    dataset1 = np.array(data)\n",
    "    subhalo_items = list(data.items())\n",
    "    print(\"items if subhalos\",subhalo_items)"
   ]
  },
  {
   "cell_type": "code",
   "execution_count": 29,
   "metadata": {},
   "outputs": [
    {
     "data": {
      "text/plain": [
       "array(['SubhaloCM', 'SubhaloGrNr', 'SubhaloHalfmassRad',\n",
       "       'SubhaloHalfmassRadType', 'SubhaloIDMostbound', 'SubhaloLen',\n",
       "       'SubhaloLenType', 'SubhaloMass', 'SubhaloMassInHalfRad',\n",
       "       'SubhaloMassInHalfRadType', 'SubhaloMassInMaxRad',\n",
       "       'SubhaloMassInMaxRadType', 'SubhaloMassInRad',\n",
       "       'SubhaloMassInRadType', 'SubhaloMassType', 'SubhaloParent',\n",
       "       'SubhaloPos', 'SubhaloSpin', 'SubhaloVel', 'SubhaloVelDisp',\n",
       "       'SubhaloVmax', 'SubhaloVmaxRad'], dtype='<U24')"
      ]
     },
     "execution_count": 29,
     "metadata": {},
     "output_type": "execute_result"
    }
   ],
   "source": [
    "dataset1"
   ]
  },
  {
   "cell_type": "code",
   "execution_count": 30,
   "metadata": {},
   "outputs": [],
   "source": [
    "basePath = \"./\""
   ]
  },
  {
   "cell_type": "code",
   "execution_count": 31,
   "metadata": {},
   "outputs": [],
   "source": [
    "# fields = ['SubhaloPos']\n",
    "# subhalos = il.groupcat.loadSubhalos(basePath, 99, fields=fields)\n",
    "# print(np.shape(subhalos))"
   ]
  },
  {
   "cell_type": "code",
   "execution_count": 3,
   "metadata": {},
   "outputs": [
    {
     "name": "stdout",
     "output_type": "stream",
     "text": [
      "list of datasets in this file: \n",
      " ['Config', 'Header', 'Parameters', 'PartType1']\n",
      "<HDF5 dataset \"Coordinates\": shape (4915788, 3), type \"<f8\">\n",
      "<KeysViewHDF5 ['Config', 'Header', 'Parameters', 'PartType1']>\n"
     ]
    }
   ],
   "source": [
    "with h5py.File('/home/group10/TNGDataScripts/TNG50-4-Dark/output/snapdir_099/snap_099.2.hdf5','r') as hdf:\n",
    "    ls = list(hdf.keys())\n",
    "    print(\"list of datasets in this file: \\n\", ls)\n",
    "    data = hdf.get('PartType1')\n",
    "    dataset1 = np.array(data)\n",
    "    u = data.get('Coordinates')\n",
    "    print(u)\n",
    "    \n",
    "    print(f\"{hdf.keys()}\")"
   ]
  },
  {
   "cell_type": "code",
   "execution_count": 33,
   "metadata": {},
   "outputs": [
    {
     "data": {
      "text/plain": [
       "array(['Coordinates', 'ParticleIDs', 'Potential', 'SubfindDMDensity',\n",
       "       'SubfindDensity', 'SubfindHsml', 'SubfindVelDisp', 'Velocities'],\n",
       "      dtype='<U16')"
      ]
     },
     "execution_count": 33,
     "metadata": {},
     "output_type": "execute_result"
    }
   ],
   "source": [
    "dataset1"
   ]
  },
  {
   "cell_type": "code",
   "execution_count": 34,
   "metadata": {},
   "outputs": [
    {
     "data": {
      "text/plain": [
       "<Closed HDF5 file>"
      ]
     },
     "execution_count": 34,
     "metadata": {},
     "output_type": "execute_result"
    }
   ],
   "source": [
    "hdf"
   ]
  },
  {
   "cell_type": "code",
   "execution_count": 35,
   "metadata": {},
   "outputs": [
    {
     "name": "stdout",
     "output_type": "stream",
     "text": [
      "(19683000, 3)\n",
      "(19683000,)\n"
     ]
    }
   ],
   "source": [
    "import matplotlib as mpl\n",
    "basePath = '/home/group10/TNGDataScripts/TNG50-4-Dark/output'\n",
    "dm_pos = il.snapshot.loadSubset(basePath,99,'dm',['Coordinates']);\n",
    "ID = il.snapshot.loadSubset(basePath,99,'dm',['ParticleIDs'])\n",
    "print(np.shape(dm_pos))\n",
    "print(np.shape(ID))\n",
    "#plt.hist2d(dm_pos[:,0], dm_pos[:,1], norm=mpl.colors.LogNorm(), bins=64);\n",
    "#plt.xlim([0,35000])\n",
    "#plt.ylim([0,35000])\n",
    "\n",
    "\n",
    "#plt.xlabel('x [ckpc/h]')\n",
    "#plt.ylabel('y [ckpc/h]')\n"
   ]
  },
  {
   "cell_type": "code",
   "execution_count": 36,
   "metadata": {},
   "outputs": [
    {
     "name": "stdout",
     "output_type": "stream",
     "text": [
      "list of datasets in this file: \n",
      " ['FileOffsets', 'Group', 'Subhalo']\n",
      "[('LHaloTree', <HDF5 group \"/Subhalo/LHaloTree\" (3 members)>), ('SnapByType', <HDF5 dataset \"SnapByType\": shape (22963, 6), type \"<i8\">), ('SubLink', <HDF5 group \"/Subhalo/SubLink\" (3 members)>)]\n",
      "<class 'h5py._hl.dataset.Dataset'>\n"
     ]
    }
   ],
   "source": [
    "with h5py.File('/home/group10/TNGDataScripts/TNG50-4-Dark/postprocessing/offsets/offsets_099.hdf5','r') as hdf:\n",
    "    ls = list(hdf.keys())\n",
    "    print(\"list of datasets in this file: \\n\", ls)\n",
    "    data = hdf.get('Subhalo')\n",
    "    data_items = list(data.items())\n",
    "    print(data_items)\n",
    "    h = data.get('SnapByType')\n",
    "    print(type(h))\n",
    "    \n",
    "    "
   ]
  },
  {
   "cell_type": "code",
   "execution_count": 37,
   "metadata": {},
   "outputs": [
    {
     "name": "stderr",
     "output_type": "stream",
     "text": [
      "/tmp/ipykernel_4082925/1419605431.py:28: DeprecationWarning: Calling nonzero on 0d arrays is deprecated, as it behaves surprisingly. Use `atleast_1d(cond).nonzero()` if the old behavior was intended. If the context of this warning is of the form `arr[nonzero(cond)]`, just use `arr[cond]`.\n",
      "  ww = np.where( indsType > gcOffsetsMax[val])[0]\n"
     ]
    },
    {
     "data": {
      "text/plain": [
       "0"
      ]
     },
     "execution_count": 37,
     "metadata": {},
     "output_type": "execute_result"
    }
   ],
   "source": [
    "basePath='/home/group10/TNGDataScripts/TNG50-4-Dark/output'\n",
    "SubhaloLenType = il.groupcat.loadSubhalos(basePath,99,fields=['SubhaloLenType'])\n",
    "\n",
    "def inverseMapPartIndicesToSubhaloIDs(indsType, ptName, SubhaloLenType, debug=False, flagFuzz=True):\n",
    "    \"\"\" For a particle type ptName and snapshot indices for that type indsType, compute the\n",
    "        subhalo ID to which each particle index belongs. \n",
    "        If flagFuzz is True (default), particles in FoF fuzz are marked as outside any subhalo,\n",
    "        otherwise they are attributed to the closest (prior) subhalo.\n",
    "    \"\"\"\n",
    "    gcLenType = SubhaloLenType[:,1]\n",
    "    with h5py.File(il.groupcat.offsetPath(basePath,99),'r') as f:\n",
    "            gcOffsetsType = f['Subhalo/SnapByType'][:,1]\n",
    "\n",
    "    # val gives the indices of gcOffsetsType such that, if each indsType was inserted\n",
    "    # into gcOffsetsType just -before- its index, the order of gcOffsetsType is unchanged\n",
    "    # note 1: (gcOffsetsType-1) so that the case of the particle index equaling the\n",
    "    # subhalo offset (i.e. first particle) works correctly\n",
    "    # note 2: np.ss()-1 to shift to the previous subhalo, since we want to know the\n",
    "    # subhalo offset index -after- which the particle should be inserted\n",
    "    val = np.searchsorted( gcOffsetsType - 1, indsType ) - 1\n",
    "    val = val.astype('int32')\n",
    "\n",
    "    # search and flag all matches where the indices exceed the length of the\n",
    "    # subhalo they have been assigned to, e.g. either in fof fuzz, in subhalos with\n",
    "    # no particles of this type, or not in any subhalo at the end of the file\n",
    "    if flagFuzz:\n",
    "        gcOffsetsMax = gcOffsetsType + gcLenType - 1\n",
    "        ww = np.where( indsType > gcOffsetsMax[val])[0]\n",
    "\n",
    "        if len(ww):\n",
    "            val[ww] = -1\n",
    "\n",
    "    if debug:\n",
    "        # for all inds we identified in subhalos, verify parents directly\n",
    "        for i in range(len(indsType)):\n",
    "            if val[i] < 0:\n",
    "                continue\n",
    "            assert indsType[i] >= gcOffsetsType[val[i]]\n",
    "            if flagFuzz:\n",
    "                assert indsType[i] < gcOffsetsType[val[i]]+gcLenType[val[i]]\n",
    "                assert gcLenType[val[i]] != 0\n",
    "\n",
    "    return val\n",
    "\n",
    "inverseMapPartIndicesToSubhaloIDs(99, 1, SubhaloLenType)"
   ]
  },
  {
   "cell_type": "code",
   "execution_count": 38,
   "metadata": {},
   "outputs": [
    {
     "name": "stdout",
     "output_type": "stream",
     "text": [
      "<class 'numpy.ndarray'>\n"
     ]
    }
   ],
   "source": [
    "SubhaloLenType = il.groupcat.loadSubhalos(basePath,99,fields=['SubhaloLenType'])\n",
    "print(type(SubhaloLenType))"
   ]
  },
  {
   "cell_type": "code",
   "execution_count": 39,
   "metadata": {},
   "outputs": [
    {
     "name": "stdout",
     "output_type": "stream",
     "text": [
      "items in the base directory [('Config', <HDF5 group \"/Config\" (0 members)>), ('Groups', <HDF5 group \"/Groups\" (100 members)>), ('Header', <HDF5 group \"/Header\" (0 members)>), ('Offsets', <HDF5 group \"/Offsets\" (98 members)>), ('Parameters', <HDF5 group \"/Parameters\" (0 members)>), ('Snapshots', <HDF5 group \"/Snapshots\" (100 members)>), ('Trees', <HDF5 group \"/Trees\" (1 members)>)]\n",
      "items in group [('0', <HDF5 group \"/Snapshots/0\" (2 members)>), ('1', <HDF5 group \"/Snapshots/1\" (2 members)>), ('10', <HDF5 group \"/Snapshots/10\" (2 members)>), ('11', <HDF5 group \"/Snapshots/11\" (2 members)>), ('12', <HDF5 group \"/Snapshots/12\" (2 members)>), ('13', <HDF5 group \"/Snapshots/13\" (2 members)>), ('14', <HDF5 group \"/Snapshots/14\" (2 members)>), ('15', <HDF5 group \"/Snapshots/15\" (2 members)>), ('16', <HDF5 group \"/Snapshots/16\" (2 members)>), ('17', <HDF5 group \"/Snapshots/17\" (2 members)>), ('18', <HDF5 group \"/Snapshots/18\" (2 members)>), ('19', <HDF5 group \"/Snapshots/19\" (2 members)>), ('2', <HDF5 group \"/Snapshots/2\" (2 members)>), ('20', <HDF5 group \"/Snapshots/20\" (2 members)>), ('21', <HDF5 group \"/Snapshots/21\" (2 members)>), ('22', <HDF5 group \"/Snapshots/22\" (2 members)>), ('23', <HDF5 group \"/Snapshots/23\" (2 members)>), ('24', <HDF5 group \"/Snapshots/24\" (2 members)>), ('25', <HDF5 group \"/Snapshots/25\" (2 members)>), ('26', <HDF5 group \"/Snapshots/26\" (2 members)>), ('27', <HDF5 group \"/Snapshots/27\" (2 members)>), ('28', <HDF5 group \"/Snapshots/28\" (2 members)>), ('29', <HDF5 group \"/Snapshots/29\" (2 members)>), ('3', <HDF5 group \"/Snapshots/3\" (2 members)>), ('30', <HDF5 group \"/Snapshots/30\" (2 members)>), ('31', <HDF5 group \"/Snapshots/31\" (2 members)>), ('32', <HDF5 group \"/Snapshots/32\" (2 members)>), ('33', <HDF5 group \"/Snapshots/33\" (2 members)>), ('34', <HDF5 group \"/Snapshots/34\" (2 members)>), ('35', <HDF5 group \"/Snapshots/35\" (2 members)>), ('36', <HDF5 group \"/Snapshots/36\" (2 members)>), ('37', <HDF5 group \"/Snapshots/37\" (2 members)>), ('38', <HDF5 group \"/Snapshots/38\" (2 members)>), ('39', <HDF5 group \"/Snapshots/39\" (2 members)>), ('4', <HDF5 group \"/Snapshots/4\" (2 members)>), ('40', <HDF5 group \"/Snapshots/40\" (2 members)>), ('41', <HDF5 group \"/Snapshots/41\" (2 members)>), ('42', <HDF5 group \"/Snapshots/42\" (2 members)>), ('43', <HDF5 group \"/Snapshots/43\" (2 members)>), ('44', <HDF5 group \"/Snapshots/44\" (2 members)>), ('45', <HDF5 group \"/Snapshots/45\" (2 members)>), ('46', <HDF5 group \"/Snapshots/46\" (2 members)>), ('47', <HDF5 group \"/Snapshots/47\" (2 members)>), ('48', <HDF5 group \"/Snapshots/48\" (2 members)>), ('49', <HDF5 group \"/Snapshots/49\" (2 members)>), ('5', <HDF5 group \"/Snapshots/5\" (2 members)>), ('50', <HDF5 group \"/Snapshots/50\" (2 members)>), ('51', <HDF5 group \"/Snapshots/51\" (2 members)>), ('52', <HDF5 group \"/Snapshots/52\" (2 members)>), ('53', <HDF5 group \"/Snapshots/53\" (2 members)>), ('54', <HDF5 group \"/Snapshots/54\" (2 members)>), ('55', <HDF5 group \"/Snapshots/55\" (2 members)>), ('56', <HDF5 group \"/Snapshots/56\" (2 members)>), ('57', <HDF5 group \"/Snapshots/57\" (2 members)>), ('58', <HDF5 group \"/Snapshots/58\" (2 members)>), ('59', <HDF5 group \"/Snapshots/59\" (2 members)>), ('6', <HDF5 group \"/Snapshots/6\" (2 members)>), ('60', <HDF5 group \"/Snapshots/60\" (2 members)>), ('61', <HDF5 group \"/Snapshots/61\" (2 members)>), ('62', <HDF5 group \"/Snapshots/62\" (2 members)>), ('63', <HDF5 group \"/Snapshots/63\" (2 members)>), ('64', <HDF5 group \"/Snapshots/64\" (2 members)>), ('65', <HDF5 group \"/Snapshots/65\" (2 members)>), ('66', <HDF5 group \"/Snapshots/66\" (2 members)>), ('67', <HDF5 group \"/Snapshots/67\" (2 members)>), ('68', <HDF5 group \"/Snapshots/68\" (2 members)>), ('69', <HDF5 group \"/Snapshots/69\" (2 members)>), ('7', <HDF5 group \"/Snapshots/7\" (2 members)>), ('70', <HDF5 group \"/Snapshots/70\" (2 members)>), ('71', <HDF5 group \"/Snapshots/71\" (2 members)>), ('72', <HDF5 group \"/Snapshots/72\" (2 members)>), ('73', <HDF5 group \"/Snapshots/73\" (2 members)>), ('74', <HDF5 group \"/Snapshots/74\" (2 members)>), ('75', <HDF5 group \"/Snapshots/75\" (2 members)>), ('76', <HDF5 group \"/Snapshots/76\" (2 members)>), ('77', <HDF5 group \"/Snapshots/77\" (2 members)>), ('78', <HDF5 group \"/Snapshots/78\" (2 members)>), ('79', <HDF5 group \"/Snapshots/79\" (2 members)>), ('8', <HDF5 group \"/Snapshots/8\" (2 members)>), ('80', <HDF5 group \"/Snapshots/80\" (2 members)>), ('81', <HDF5 group \"/Snapshots/81\" (2 members)>), ('82', <HDF5 group \"/Snapshots/82\" (2 members)>), ('83', <HDF5 group \"/Snapshots/83\" (2 members)>), ('84', <HDF5 group \"/Snapshots/84\" (2 members)>), ('85', <HDF5 group \"/Snapshots/85\" (2 members)>), ('86', <HDF5 group \"/Snapshots/86\" (2 members)>), ('87', <HDF5 group \"/Snapshots/87\" (2 members)>), ('88', <HDF5 group \"/Snapshots/88\" (2 members)>), ('89', <HDF5 group \"/Snapshots/89\" (2 members)>), ('9', <HDF5 group \"/Snapshots/9\" (2 members)>), ('90', <HDF5 group \"/Snapshots/90\" (2 members)>), ('91', <HDF5 group \"/Snapshots/91\" (2 members)>), ('92', <HDF5 group \"/Snapshots/92\" (2 members)>), ('93', <HDF5 group \"/Snapshots/93\" (2 members)>), ('94', <HDF5 group \"/Snapshots/94\" (2 members)>), ('95', <HDF5 group \"/Snapshots/95\" (2 members)>), ('96', <HDF5 group \"/Snapshots/96\" (2 members)>), ('97', <HDF5 group \"/Snapshots/97\" (2 members)>), ('98', <HDF5 group \"/Snapshots/98\" (2 members)>), ('99', <HDF5 group \"/Snapshots/99\" (2 members)>)]\n",
      "items in g1 [('Header', <HDF5 group \"/Snapshots/99/Header\" (0 members)>), ('PartType1', <HDF5 group \"/Snapshots/99/PartType1\" (8 members)>)]\n",
      "Halos [('Coordinates', <HDF5 dataset \"Coordinates\": shape (19683000, 3), type \"<f8\">), ('ParticleIDs', <HDF5 dataset \"ParticleIDs\": shape (19683000,), type \"<u8\">), ('Potential', <HDF5 dataset \"Potential\": shape (19683000,), type \"<f4\">), ('SubfindDMDensity', <HDF5 dataset \"SubfindDMDensity\": shape (19683000,), type \"<f4\">), ('SubfindDensity', <HDF5 dataset \"SubfindDensity\": shape (19683000,), type \"<f4\">), ('SubfindHsml', <HDF5 dataset \"SubfindHsml\": shape (19683000,), type \"<f4\">), ('SubfindVelDisp', <HDF5 dataset \"SubfindVelDisp\": shape (19683000,), type \"<f4\">), ('Velocities', <HDF5 dataset \"Velocities\": shape (19683000, 3), type \"<f4\">)]\n"
     ]
    }
   ],
   "source": [
    "with h5py.File('/home/group10/TNGDataScripts/TNG50-4-Dark/simulation.hdf5','r') as hdf:\n",
    "    base_items = list(hdf.items())\n",
    "    print(\"items in the base directory\", base_items)\n",
    "    g1 = hdf.get('Snapshots')\n",
    "    g1_items = list(g1.items())\n",
    "    print(\"items in group\", g1_items)\n",
    "    g2 = g1.get('99')\n",
    "    g2_items = list(g2.items())\n",
    "    print(\"items in g1\", g2_items)\n",
    "    halo = g2.get('PartType1')\n",
    "    halo_items = list(halo.items())\n",
    "    print(\"Halos\", halo_items)\n",
    "    ID = halo.get('ParticleIDs')\n",
    "    dataset2= np.array(ID)"
   ]
  },
  {
   "cell_type": "code",
   "execution_count": 40,
   "metadata": {},
   "outputs": [],
   "source": [
    "import illustris_python as il\n",
    "import h5py\n",
    "import numpy as np\n",
    "\n",
    "def map_particle_index_to_parent_subhalo_index(p_index, flagFuzz=True):\n",
    "    \"\"\" If flagFuzz is true, then the return has value -1 if the particle is \n",
    "    located in the FoF fuzz (outside any subhalo).\"\"\"\n",
    "\n",
    "    basePath = '/home/group10/TNGDataScripts/TNG50-4-Dark/output'\n",
    "    gName = 'Subhalo'\n",
    "    snap_n = 99\n",
    "    ptType = 1\n",
    "\n",
    "    # load\n",
    "    with h5py.File(il.groupcat.offsetPath(basePath,snap_n),'r') as f:\n",
    "            gcOffsetsType = f['Subhalo/SnapByType'][:,ptType]\n",
    "\n",
    "    gcLenType = il.groupcat.loadSubhalos(basePath, snap_n, 'SubhaloLenType')\n",
    "    gcLenType = gcLenType[:,ptType]\n",
    "\n",
    "    # find largest offset which is not past p_index\n",
    "    val = np.searchsorted(gcOffsetsType-1,p_index)\n",
    "    val = np.array([val - 1])\n",
    "    val = val.astype('int32')\n",
    "\n",
    "    if flagFuzz:\n",
    "            gcOffsetsMax = gcOffsetsType + gcLenType - 1\n",
    "            ww = np.where(p_index > gcOffsetsMax[val])[0]\n",
    "\n",
    "            if len(ww):\n",
    "                    val[ww] = -1\n",
    "\n",
    "    return val\n",
    "\n",
    "map_particle_index_to_parent_subhalo_index(dataset2)"
   ]
  }
 ],
 "metadata": {
  "kernelspec": {
   "display_name": "Python 3",
   "language": "python",
   "name": "python3"
  },
  "language_info": {
   "codemirror_mode": {
    "name": "ipython",
    "version": 3
   },
   "file_extension": ".py",
   "mimetype": "text/x-python",
   "name": "python",
   "nbconvert_exporter": "python",
   "pygments_lexer": "ipython3",
   "version": "3.10.12"
  }
 },
 "nbformat": 4,
 "nbformat_minor": 2
}
